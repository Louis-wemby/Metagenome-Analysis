{
 "cells": [
  {
   "cell_type": "markdown",
   "metadata": {},
   "source": []
  },
  {
   "cell_type": "markdown",
   "metadata": {},
   "source": [
    "## 导入数据及预处理"
   ]
  },
  {
   "cell_type": "code",
   "execution_count": null,
   "metadata": {},
   "outputs": [],
   "source": [
    "! pip install pandas numpy matplotlib seaborn scikit-learn"
   ]
  },
  {
   "cell_type": "code",
   "execution_count": null,
   "metadata": {},
   "outputs": [],
   "source": [
    "import pandas as pd\n",
    "import numpy as np"
   ]
  },
  {
   "cell_type": "code",
   "execution_count": null,
   "metadata": {},
   "outputs": [],
   "source": [
    "def preprocess_abundance(abu, level):\n",
    "    abu = abu.T # 转置\n",
    "    abu = abu.loc[:,abu.sum(axis=0) > 0] # 去除全为0的特征\n",
    "    abu.columns = abu.columns.str.split(';', expand=True) # 将分类信息拆分为多列\n",
    "    abu.columns = abu.columns.get_level_values(level) # 选择指定层级的分类信息\n",
    "    abu = abu.loc[:,abu.columns.notnull()] # 去除分类信息为空的特征\n",
    "    abu = abu.groupby(abu.columns, axis=1).sum() # 按分类信息聚合\\\n",
    "    return abu\n",
    "    "
   ]
  },
  {
   "cell_type": "markdown",
   "metadata": {},
   "source": [
    "导入数据"
   ]
  },
  {
   "cell_type": "code",
   "execution_count": null,
   "metadata": {},
   "outputs": [],
   "source": [
    "X_train = pd.read_csv('data/SourceCM.csv', index_col=0)\n",
    "X_test = pd.read_csv('data/QueryCM.csv', index_col=0)\n",
    "y_test = pd.read_csv('data/QueryLabel.csv', index_col=0)\n",
    "y_train = pd.read_csv('data/SourceLabel.csv', index_col=0)"
   ]
  },
  {
   "cell_type": "code",
   "execution_count": null,
   "metadata": {},
   "outputs": [],
   "source": [
    "X_train.describe()"
   ]
  },
  {
   "cell_type": "markdown",
   "metadata": {},
   "source": [
    "丰度表预处理"
   ]
  },
  {
   "cell_type": "code",
   "execution_count": null,
   "metadata": {},
   "outputs": [],
   "source": [
    "X_train = preprocess_abundance(X_train, 5)  # 保留到属\n",
    "X_test = preprocess_abundance(X_test, 5)  # 保留到属"
   ]
  },
  {
   "cell_type": "code",
   "execution_count": null,
   "metadata": {},
   "outputs": [],
   "source": [
    "X_test = pd.concat([pd.DataFrame(columns=X_train.columns), X_test], join='outer', axis=0).fillna(0)  # 特征对齐\n",
    "X_test = X_test[X_train.columns]\n",
    "\n",
    "X_train = X_train.div(X_train.sum(axis=1), axis=0)  # 相对丰度\n",
    "X_test = X_test.div(X_test.sum(axis=1), axis=0) # 相对丰度"
   ]
  },
  {
   "cell_type": "code",
   "execution_count": null,
   "metadata": {},
   "outputs": [],
   "source": [
    "X_train.head()"
   ]
  },
  {
   "cell_type": "markdown",
   "metadata": {},
   "source": [
    "利用训练集的丰度表进行标准化"
   ]
  },
  {
   "cell_type": "code",
   "execution_count": null,
   "metadata": {},
   "outputs": [],
   "source": [
    "from sklearn.preprocessing import StandardScaler\n",
    "\n",
    "scaler = StandardScaler()\n",
    "X_train = scaler.fit_transform(X_train)\n",
    "X_test = scaler.transform(X_test)"
   ]
  },
  {
   "cell_type": "markdown",
   "metadata": {},
   "source": [
    "标签预处理"
   ]
  },
  {
   "cell_type": "code",
   "execution_count": null,
   "metadata": {},
   "outputs": [],
   "source": [
    "y_train = y_train['Env'].str.split(':', expand=True)    # 样本来源分层\n",
    "y_train = y_train.drop(columns=[0]) # 去除root\n",
    "y_test = y_test['Env'].str.split(':', expand=True)    # 样本来源分层\n",
    "y_test = y_test.drop(columns=[0]) # 去除root"
   ]
  },
  {
   "cell_type": "code",
   "execution_count": null,
   "metadata": {},
   "outputs": [],
   "source": [
    "y_train.head()"
   ]
  },
  {
   "cell_type": "markdown",
   "metadata": {},
   "source": [
    "## 模型构建"
   ]
  },
  {
   "cell_type": "code",
   "execution_count": null,
   "metadata": {},
   "outputs": [],
   "source": [
    "from sklearn.preprocessing import LabelEncoder\n",
    "from sklearn.ensemble import RandomForestClassifier"
   ]
  },
  {
   "cell_type": "code",
   "execution_count": null,
   "metadata": {},
   "outputs": [],
   "source": [
    "def construct_model(X_train, y_train):\n",
    "    le = LabelEncoder()\n",
    "    le.fit_transform(y_train)   # 将分类标签编码为数字\n",
    "    clf = RandomForestClassifier(n_estimators=100, random_state=0, n_jobs=-1)\n",
    "    clf.fit(X_train, y_train)\n",
    "    return clf, le"
   ]
  },
  {
   "cell_type": "markdown",
   "metadata": {},
   "source": [
    "对最后一层建模"
   ]
  },
  {
   "cell_type": "code",
   "execution_count": null,
   "metadata": {},
   "outputs": [],
   "source": [
    "model, le = construct_model(X_train, y_train.iloc[:, -1])"
   ]
  },
  {
   "cell_type": "markdown",
   "metadata": {},
   "source": [
    "在测试集上评估"
   ]
  },
  {
   "cell_type": "code",
   "execution_count": null,
   "metadata": {},
   "outputs": [],
   "source": [
    "y_score = model.predict_proba(X_test)\n",
    "y_true = le.transform(y_test.iloc[:, -1])"
   ]
  },
  {
   "cell_type": "code",
   "execution_count": null,
   "metadata": {},
   "outputs": [],
   "source": [
    "from sklearn.metrics import roc_curve, auc, roc_auc_score\n",
    "\n",
    "def roc_auc_calculate(y_query, y_proba):\n",
    "    classes = np.unique(y_query)\n",
    "    Nclasses = len(classes)\n",
    "    y_test = np.eye(Nclasses)[y_query]\n",
    "\n",
    "    fpr = dict()\n",
    "    tpr = dict()\n",
    "    roc_auc = dict()\n",
    "    for i in range(Nclasses):\n",
    "        fpr[i], tpr[i], _ = roc_curve(y_test[:, i], y_proba[:, i])\n",
    "        roc_auc[i] = float(format(auc(fpr[i], tpr[i]), '.5f'))\n",
    "    \n",
    "    # First aggregate all false positive rates\n",
    "    all_fpr = np.unique(np.concatenate([fpr[i] for i in range(Nclasses)]))#数组拼接得到fpr的矩阵\n",
    "\n",
    "    # Then interpolate all ROC curves at this points\n",
    "    mean_tpr = np.zeros_like(all_fpr)  #构造数字都为0的矩阵，为做平均做准备\n",
    "    for i in range(Nclasses):\n",
    "        mean_tpr += np.interp(all_fpr, fpr[i], tpr[i])\n",
    "\n",
    "    # Finally average it and compute AUC\n",
    "    mean_tpr /= Nclasses\n",
    "\n",
    "    fpr[\"macro\"] = all_fpr\n",
    "    tpr[\"macro\"] = mean_tpr\n",
    "    roc_auc[\"macro\"] = float(format(auc(fpr[\"macro\"], tpr[\"macro\"]), '.5f'))\n",
    "    \n",
    "\n",
    "    fpr[\"micro\"], tpr[\"micro\"], _ = roc_curve(y_test.ravel(), y_proba.ravel())\n",
    "    roc_auc[\"micro\"] = float(format(auc(fpr[\"micro\"], tpr[\"micro\"]), '.5f'))\n",
    "    \n",
    "    roc_auc[\"ovr\"] = float(format(roc_auc_score(y_query, y_proba, multi_class='ovr'), '.5f'))\n",
    "    roc_auc[\"ovo\"] = float(format(roc_auc_score(y_query, y_proba, multi_class='ovo'), '.5f'))\n",
    "    return roc_auc, fpr, tpr"
   ]
  },
  {
   "cell_type": "code",
   "execution_count": null,
   "metadata": {},
   "outputs": [],
   "source": [
    "roc_auc, fpr, tpr = roc_auc_calculate(y_true, y_score)"
   ]
  },
  {
   "cell_type": "markdown",
   "metadata": {},
   "source": [
    "## 可视化"
   ]
  },
  {
   "cell_type": "code",
   "execution_count": null,
   "metadata": {},
   "outputs": [],
   "source": [
    "import matplotlib.pyplot as plt\n",
    "import seaborn as sns"
   ]
  },
  {
   "cell_type": "code",
   "execution_count": null,
   "metadata": {},
   "outputs": [],
   "source": [
    "fig = sns.lineplot(x=fpr['micro'], \n",
    "                   y=tpr['micro'], \n",
    "                   label='micro-average ROC curve (area = {0:0.2f})'.format(roc_auc['macro']))"
   ]
  }
 ],
 "metadata": {
  "kernelspec": {
   "display_name": "base",
   "language": "python",
   "name": "python3"
  },
  "language_info": {
   "codemirror_mode": {
    "name": "ipython",
    "version": 3
   },
   "file_extension": ".py",
   "mimetype": "text/x-python",
   "name": "python",
   "nbconvert_exporter": "python",
   "pygments_lexer": "ipython3",
   "version": "3.10.14"
  }
 },
 "nbformat": 4,
 "nbformat_minor": 2
}
